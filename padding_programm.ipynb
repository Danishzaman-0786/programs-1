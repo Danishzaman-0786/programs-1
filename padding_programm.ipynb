{
  "nbformat": 4,
  "nbformat_minor": 0,
  "metadata": {
    "colab": {
      "provenance": [],
      "include_colab_link": true
    },
    "kernelspec": {
      "name": "python3",
      "display_name": "Python 3"
    },
    "language_info": {
      "name": "python"
    }
  },
  "cells": [
    {
      "cell_type": "markdown",
      "metadata": {
        "id": "view-in-github",
        "colab_type": "text"
      },
      "source": [
        "<a href=\"https://colab.research.google.com/github/Danishzaman-0786/programs-1/blob/main/padding_programm.ipynb\" target=\"_parent\"><img src=\"https://colab.research.google.com/assets/colab-badge.svg\" alt=\"Open In Colab\"/></a>"
      ]
    },
    {
      "cell_type": "code",
      "source": [
        "for i in range(n):\n",
        "  k=[]\n",
        " # p=0\n",
        "  for j in range(n):\n",
        "    if p<=len(v)-1:\n",
        "      k.append(v[p])\n",
        "    else:\n",
        "      k.append(0)\n",
        "    p=p+1\n",
        "  a.append(k)"
      ],
      "metadata": {
        "id": "GuHe-jnmV7iI"
      },
      "execution_count": 34,
      "outputs": []
    },
    {
      "cell_type": "code",
      "source": [
        "a"
      ],
      "metadata": {
        "id": "InVhx7SoWZe1",
        "outputId": "c30048f6-32de-415e-af98-3c26bdb5150f",
        "colab": {
          "base_uri": "https://localhost:8080/"
        }
      },
      "execution_count": 35,
      "outputs": [
        {
          "output_type": "execute_result",
          "data": {
            "text/plain": [
              "[[1, 2, 3, 4], [5, 6, 7, 8], [9, 10, 11, 12], [13, 0, 0, 0]]"
            ]
          },
          "metadata": {},
          "execution_count": 35
        }
      ]
    },
    {
      "cell_type": "code",
      "source": [
        "v=[[1,2,3],[4,5,6]]"
      ],
      "metadata": {
        "id": "3LUVV0xZZpsA"
      },
      "execution_count": 62,
      "outputs": []
    },
    {
      "cell_type": "code",
      "source": [
        "v"
      ],
      "metadata": {
        "id": "eFbNT-Wfaz9M",
        "outputId": "f4f38e7a-9fd1-4e7f-8322-784d9b578db6",
        "colab": {
          "base_uri": "https://localhost:8080/"
        }
      },
      "execution_count": 63,
      "outputs": [
        {
          "output_type": "execute_result",
          "data": {
            "text/plain": [
              "[[1, 2, 3], [4, 5, 6]]"
            ]
          },
          "metadata": {},
          "execution_count": 63
        }
      ]
    },
    {
      "cell_type": "code",
      "source": [
        "v.insert(0,[0,0,0,0])"
      ],
      "metadata": {
        "id": "mWe5XIEPa0ku"
      },
      "execution_count": 64,
      "outputs": []
    },
    {
      "cell_type": "code",
      "source": [
        "v"
      ],
      "metadata": {
        "id": "CBUlZ209bO59",
        "outputId": "76a07e6c-e61e-438d-b2cc-a557b7c97ed7",
        "colab": {
          "base_uri": "https://localhost:8080/"
        }
      },
      "execution_count": 65,
      "outputs": [
        {
          "output_type": "execute_result",
          "data": {
            "text/plain": [
              "[[0, 0, 0, 0], [1, 2, 3], [4, 5, 6]]"
            ]
          },
          "metadata": {},
          "execution_count": 65
        }
      ]
    },
    {
      "cell_type": "code",
      "source": [
        "v.insert(len(v),[0,0,0,0])"
      ],
      "metadata": {
        "id": "zB56h_x6bPpP"
      },
      "execution_count": 66,
      "outputs": []
    },
    {
      "cell_type": "code",
      "source": [
        "v"
      ],
      "metadata": {
        "id": "awNoObKwblSf",
        "outputId": "a3eaa872-e5d9-45e1-e4e2-f3b9e8b4eabf",
        "colab": {
          "base_uri": "https://localhost:8080/"
        }
      },
      "execution_count": 67,
      "outputs": [
        {
          "output_type": "execute_result",
          "data": {
            "text/plain": [
              "[[0, 0, 0, 0], [1, 2, 3], [4, 5, 6], [0, 0, 0, 0]]"
            ]
          },
          "metadata": {},
          "execution_count": 67
        }
      ]
    },
    {
      "cell_type": "code",
      "source": [
        "for i in range(1,len(v)-1):\n",
        "  v[i].insert(0,0)\n",
        "  v[i].insert(len(v[i]),0)"
      ],
      "metadata": {
        "id": "cuY0dk3icEXL"
      },
      "execution_count": 68,
      "outputs": []
    },
    {
      "cell_type": "code",
      "source": [
        "v"
      ],
      "metadata": {
        "id": "lCDkd9RUdWje",
        "outputId": "4d71e78a-467a-4c1f-88eb-4769f3a4c041",
        "colab": {
          "base_uri": "https://localhost:8080/"
        }
      },
      "execution_count": 69,
      "outputs": [
        {
          "output_type": "execute_result",
          "data": {
            "text/plain": [
              "[[0, 0, 0, 0], [0, 1, 2, 3, 0], [0, 4, 5, 6, 0], [0, 0, 0, 0]]"
            ]
          },
          "metadata": {},
          "execution_count": 69
        }
      ]
    },
    {
      "cell_type": "code",
      "source": [],
      "metadata": {
        "id": "jaAkxcSddYo0"
      },
      "execution_count": null,
      "outputs": []
    }
  ]
}